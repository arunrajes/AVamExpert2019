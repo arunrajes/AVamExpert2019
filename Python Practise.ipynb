{
  "nbformat": 4,
  "nbformat_minor": 0,
  "metadata": {
    "colab": {
      "name": "Untitled0.ipynb",
      "provenance": [],
      "include_colab_link": true
    },
    "kernelspec": {
      "name": "python3",
      "display_name": "Python 3"
    }
  },
  "cells": [
    {
      "cell_type": "markdown",
      "metadata": {
        "id": "view-in-github",
        "colab_type": "text"
      },
      "source": [
        "<a href=\"https://colab.research.google.com/github/arunrajes/AVamExpert2019/blob/master/Python%20Practise.ipynb\" target=\"_parent\"><img src=\"https://colab.research.google.com/assets/colab-badge.svg\" alt=\"Open In Colab\"/></a>"
      ]
    },
    {
      "cell_type": "code",
      "metadata": {
        "id": "EfeMN8JvWj53",
        "colab_type": "code",
        "colab": {}
      },
      "source": [
        "#Print a Multiplication Table of a user Choice\n",
        "num=int(input('Please enter a number'))\n",
        "z=list(range(1,11,1))\n",
        "for i in z:\n",
        " print(num,'x',i,'=',num*i)"
      ],
      "execution_count": 0,
      "outputs": []
    },
    {
      "cell_type": "code",
      "metadata": {
        "id": "uhSIuIHoZkdP",
        "colab_type": "code",
        "colab": {}
      },
      "source": [
        "# Check whether a given year is leap year or not\n",
        "num=int(input('Please enter a year'))\n",
        "if num%4 == 0:\n",
        "  print(num,'is a leap year')"
      ],
      "execution_count": 0,
      "outputs": []
    },
    {
      "cell_type": "code",
      "metadata": {
        "id": "3vHbkBzjaz6U",
        "colab_type": "code",
        "colab": {}
      },
      "source": [
        "#Check whether a number is prime or not\n",
        "num=int(input('Please enter a number'))\n",
        "if num>1:\n",
        "  for i in range(2,num,1):\n",
        "    if (num%i) ==0:\n",
        "      print(num,'is not a prime number')\n",
        "    else:\n",
        "      print(num,'is a prime number')\n",
        "else:\n",
        "    print(num,'is not a prime number')\n"
      ],
      "execution_count": 0,
      "outputs": []
    },
    {
      "cell_type": "code",
      "metadata": {
        "id": "5O6WOGkkdaop",
        "colab_type": "code",
        "colab": {}
      },
      "source": [
        "# Sum of all Prime numbers till 100\n",
        "num =100\n",
        "for i in range(2,num,1):\n",
        "  if(num%i)==0:\n",
        "    break\n",
        "  else:\n",
        "    sum=sum+num\n",
        "print(sum,'is the sum of all prime numbers till 100')\n"
      ],
      "execution_count": 0,
      "outputs": []
    },
    {
      "cell_type": "code",
      "metadata": {
        "id": "dXd4dwemfz7e",
        "colab_type": "code",
        "colab": {}
      },
      "source": [
        "# Check wether a number is palindrome or not\n",
        "n=int(input(\"Enter number:\"))\n",
        "temp=n\n",
        "rev=0\n",
        "while(n>0):\n",
        "    dig=n%10\n",
        "    rev=rev*10+dig\n",
        "    n=n//10\n",
        "if(temp==rev):\n",
        "    print(\"The number is a palindrome!\")\n",
        "else:\n",
        "    print(\"The number isn't a palindrome!\")"
      ],
      "execution_count": 0,
      "outputs": []
    },
    {
      "cell_type": "code",
      "metadata": {
        "id": "G_nb4leSguOz",
        "colab_type": "code",
        "colab": {
          "base_uri": "https://localhost:8080/",
          "height": 69
        },
        "outputId": "bdd71c8b-fddf-4278-a4a7-63618ef7b7f2"
      },
      "source": [
        "x = 15\n",
        "y = 2\n",
        "\n",
        "print(x // y,'x//y')\n",
        "print(x/y,'x/y')\n",
        "print(x%y,'x%y')\n"
      ],
      "execution_count": 16,
      "outputs": [
        {
          "output_type": "stream",
          "text": [
            "7 x//y\n",
            "7.5 x/y\n",
            "1 x%y\n"
          ],
          "name": "stdout"
        }
      ]
    }
  ]
}